{
 "cells": [
  {
   "cell_type": "markdown",
   "metadata": {},
   "source": [
    "# Active learning on image classification"
   ]
  },
  {
   "cell_type": "markdown",
   "metadata": {},
   "source": [
    "## Prerequisite\n",
    "You are going to train image classification using Cifar10.<br>\n",
    "Assume you only have a part of the dataset labeled, while you have a plenty of unlabeled data.<br><br>\n",
    "Initially you only have 10000 images, with labels.<br>\n",
    "In this situation, you start the model training with the only dataset you have, and retrain gradually by adding data.<br>\n",
    "There are three strategies for adding data:\n",
    "1. Semi-supervised learning: make inference on unlabeled data and add those with high probability as labeled training data.\n",
    "2. Active learning: add those with high importance as labeled training data, and a human has to label them.\n",
    "3. Combination of both\n",
    "\n",
    "## Trying for 2. Active learning"
   ]
  },
  {
   "cell_type": "markdown",
   "metadata": {},
   "source": [
    "## This notebook simulates active learning using Cifar10 CNN"
   ]
  },
  {
   "cell_type": "markdown",
   "metadata": {},
   "source": [
    "### Train a base model"
   ]
  },
  {
   "cell_type": "code",
   "execution_count": 1,
   "metadata": {},
   "outputs": [
    {
     "name": "stdout",
     "output_type": "stream",
     "text": [
      "tensorflow\n"
     ]
    }
   ],
   "source": [
    "# set Keras backend to Tensorflow\n",
    "import os\n",
    "os.environ[\"KERAS_BACKEND\"] = \"tensorflow\"\n",
    "kerasBKED = os.environ[\"KERAS_BACKEND\"] \n",
    "print(kerasBKED)"
   ]
  },
  {
   "cell_type": "code",
   "execution_count": 2,
   "metadata": {},
   "outputs": [
    {
     "name": "stderr",
     "output_type": "stream",
     "text": [
      "Using TensorFlow backend.\n",
      "/opt/anaconda3/lib/python3.6/importlib/_bootstrap.py:219: RuntimeWarning: compiletime version 3.5 of module 'tensorflow.python.framework.fast_tensor_util' does not match runtime version 3.6\n",
      "  return f(*args, **kwds)\n"
     ]
    }
   ],
   "source": [
    "# import\n",
    "import keras\n",
    "from keras.models import load_model\n",
    "from keras.datasets import cifar10\n",
    "from keras.models import Sequential\n",
    "from keras.layers import Dense, Dropout, Activation, Flatten\n",
    "from keras.layers import Conv2D, MaxPooling2D, InputLayer\n",
    "from keras.callbacks import EarlyStopping, ModelCheckpoint\n",
    "from sklearn.model_selection import train_test_split\n",
    "import os\n",
    "import pickle\n",
    "import numpy as np"
   ]
  },
  {
   "cell_type": "code",
   "execution_count": 3,
   "metadata": {},
   "outputs": [],
   "source": [
    "# make saving directory\n",
    "saveDir = \"./cifar10/act/\"\n",
    "if not os.path.isdir(saveDir):\n",
    "    os.makedirs(saveDir)"
   ]
  },
  {
   "cell_type": "markdown",
   "metadata": {},
   "source": [
    "## load Cifar10 images and divide them to inititial, first, second and third sets.\n",
    "Assuming to train a Cifar10 CNN model with data increasing gradually, I get the following datasets:\n",
    "- initial training set: 10000 images\n",
    "- unlabeled training set: 40000 images\n",
    "- test set: 10000 images"
   ]
  },
  {
   "cell_type": "code",
   "execution_count": 4,
   "metadata": {},
   "outputs": [
    {
     "name": "stdout",
     "output_type": "stream",
     "text": [
      "x train shape: (50000, 32, 32, 3)\n",
      "50000 training images\n",
      "10000 test images\n"
     ]
    }
   ],
   "source": [
    "# get Cifar10 dataset\n",
    "(x_train, y_train), (x_test, y_test) = cifar10.load_data()\n",
    "\n",
    "print('x train shape:', x_train.shape)\n",
    "print(x_train.shape[0], 'training images')\n",
    "print(x_test.shape[0], 'test images')"
   ]
  },
  {
   "cell_type": "code",
   "execution_count": 5,
   "metadata": {},
   "outputs": [],
   "source": [
    "# prerequisite\n",
    "num_classes = 10\n",
    "y_train = keras.utils.to_categorical(y_train, num_classes)\n",
    "y_test = keras.utils.to_categorical(y_test, num_classes)\n",
    "\n",
    "x_train = x_train.astype('float32')\n",
    "x_test = x_test.astype('float32')\n",
    "x_train /= 255\n",
    "x_test /= 255"
   ]
  },
  {
   "cell_type": "code",
   "execution_count": 6,
   "metadata": {},
   "outputs": [],
   "source": [
    "initNum = 10000\n",
    "x_train1 = x_train[:initNum]\n",
    "y_train1 = y_train[:initNum]\n",
    "remainXTrain = x_train[initNum:]\n",
    "remainYTrain = y_train[initNum:]"
   ]
  },
  {
   "cell_type": "code",
   "execution_count": 7,
   "metadata": {},
   "outputs": [
    {
     "name": "stdout",
     "output_type": "stream",
     "text": [
      "initial training X: (10000, 32, 32, 3)\n",
      "initial training Y: (10000, 10)\n",
      "remaining training X: (40000, 32, 32, 3)\n",
      "remaining training Y: (40000, 10)\n",
      "test X: (10000, 32, 32, 3)\n",
      "test Y: (10000, 10)\n"
     ]
    }
   ],
   "source": [
    "print(\"initial training X: {0}\\n\\\n",
    "initial training Y: {1}\\n\\\n",
    "remaining training X: {2}\\n\\\n",
    "remaining training Y: {3}\\n\\\n",
    "test X: {4}\\n\\\n",
    "test Y: {5}\".format(\n",
    "    x_train1.shape,y_train1.shape,remainXTrain.shape,remainYTrain.shape,x_test.shape,y_test.shape))"
   ]
  },
  {
   "cell_type": "code",
   "execution_count": 8,
   "metadata": {},
   "outputs": [],
   "source": [
    "labels = [\"airplane\",\"automobile\",\"bird\",\"cat\",\"deer\",\"dog\",\"frog\",\"horse\",\"ship\",\"truck\"]"
   ]
  },
  {
   "cell_type": "code",
   "execution_count": null,
   "metadata": {},
   "outputs": [],
   "source": []
  },
  {
   "cell_type": "markdown",
   "metadata": {},
   "source": [
    "## Define the CNN model in Keras"
   ]
  },
  {
   "cell_type": "code",
   "execution_count": 9,
   "metadata": {},
   "outputs": [],
   "source": [
    "# optimization and compile\n",
    "def compileModel(model, lr=0.001, decay=1e-6):\n",
    "    opt = keras.optimizers.adam(lr=lr, decay=decay)\n",
    "\n",
    "    model.compile(loss='categorical_crossentropy',\n",
    "                  optimizer=opt,\n",
    "                  metrics=['accuracy'])\n",
    "    \n",
    "    return model"
   ]
  },
  {
   "cell_type": "code",
   "execution_count": 10,
   "metadata": {},
   "outputs": [],
   "source": [
    "# define layers\n",
    "def getModel(loadModel=False, modelFilePath=\"\", lr=0.001, decay=1e-6):\n",
    "    model = Sequential()\n",
    "    model.add(Conv2D(64, (3, 3), padding='same', input_shape=x_train.shape[1:]))\n",
    "    model.add(Activation('relu'))\n",
    "    model.add(Conv2D(64, (3, 3)))\n",
    "    model.add(Activation('relu'))\n",
    "    model.add(MaxPooling2D(pool_size=(2, 2)))\n",
    "    model.add(Dropout(0.25))\n",
    "\n",
    "    model.add(Conv2D(128, (3, 3), padding='same'))\n",
    "    model.add(Activation('relu'))\n",
    "    model.add(Conv2D(128, (3, 3)))\n",
    "    model.add(Activation('relu'))\n",
    "    model.add(MaxPooling2D(pool_size=(2, 2)))\n",
    "    model.add(Dropout(0.25))\n",
    "    \n",
    "    model.add(Flatten())\n",
    "    model.add(Dense(1024))\n",
    "    model.add(Activation('relu'))\n",
    "    model.add(Dropout(0.5))\n",
    "    model.add(Dense(num_classes))\n",
    "    model.add(Activation('softmax'))\n",
    "    \n",
    "    model = compileModel(model)\n",
    "    \n",
    "    # load model weights if specified\n",
    "    if loadModel == True:\n",
    "        model.load_weights(modelFilePath)\n",
    "    \n",
    "    return model"
   ]
  },
  {
   "cell_type": "code",
   "execution_count": 11,
   "metadata": {},
   "outputs": [],
   "source": [
    "# get the newest model file\n",
    "def getNewestModel(dirname=saveDir):\n",
    "    import os\n",
    "    from glob import glob\n",
    "    target = os.path.join(dirname, '*')\n",
    "    files = [(f, os.path.getmtime(f)) for f in glob(target)]\n",
    "    if len(files) == 0:\n",
    "        return getModel()\n",
    "    else:\n",
    "        newestModel = sorted(files, key=lambda files: files[1])[-1]\n",
    "        return getModel(True, newestModel[0])"
   ]
  },
  {
   "cell_type": "code",
   "execution_count": 12,
   "metadata": {},
   "outputs": [],
   "source": [
    "# get the CNN model\n",
    "model = getModel()"
   ]
  },
  {
   "cell_type": "code",
   "execution_count": 13,
   "metadata": {
    "scrolled": true
   },
   "outputs": [],
   "source": [
    "# train the model\n",
    "def trainModel(model, xTrain, yTrain, xTest, yTest, batch_size=50, epochs=100, patience=1):\n",
    "    es_cb = EarlyStopping(monitor='val_loss', patience=patience, verbose=1, mode='auto')\n",
    "    chkpt = os.path.join(saveDir, 'Cifar10_.{epoch:02d}-{loss:.2f}-{val_loss:.2f}.hdf5')\n",
    "    cp_cb = ModelCheckpoint(filepath = chkpt, monitor='val_loss', verbose=1, save_best_only=True, mode='auto')\n",
    "\n",
    "    # train\n",
    "    model.fit(xTrain, yTrain,\n",
    "              batch_size=batch_size,\n",
    "              epochs=epochs,\n",
    "              verbose=0,\n",
    "              validation_data=(xTest, yTest),\n",
    "              callbacks=[es_cb, cp_cb],\n",
    "              shuffle=True)\n",
    "    return model"
   ]
  },
  {
   "cell_type": "markdown",
   "metadata": {},
   "source": [
    "### Training the model for the initial dataset"
   ]
  },
  {
   "cell_type": "code",
   "execution_count": 14,
   "metadata": {},
   "outputs": [],
   "source": [
    "# run training on the initial dataset\n",
    "\n",
    "# model = trainModel(model, x_train1, y_train1, x_test, y_test, patience=2)"
   ]
  },
  {
   "cell_type": "code",
   "execution_count": 15,
   "metadata": {},
   "outputs": [],
   "source": [
    "# use the pre-trained model, with 65% accuracy on test data\n",
    "\n",
    "model.load_weights(\"./cifar10/Cifar10_.01-0.75-1.03.hdf5\")"
   ]
  },
  {
   "cell_type": "code",
   "execution_count": 16,
   "metadata": {},
   "outputs": [],
   "source": [
    "# define evaluation method\n",
    "def evaluate(model, xTest, yTest, display=False):\n",
    "    # only shows loss and accuracy\n",
    "    if display == False:\n",
    "        ev = model.evaluate(xTest, yTest, verbose=0)\n",
    "        return ev\n",
    "    # shows confusion matrix, classification report and accuracy score\n",
    "    else:\n",
    "        import pandas as pd\n",
    "        import seaborn as sn\n",
    "        import matplotlib.pyplot as plt\n",
    "        from sklearn.metrics import confusion_matrix\n",
    "        from sklearn.metrics import classification_report, accuracy_score\n",
    "\n",
    "        def toNum(y):\n",
    "            yNum = []\n",
    "            for x in y:\n",
    "                yNum.append(x.argmax())\n",
    "            return np.array(yNum)\n",
    "\n",
    "        # visualize confusion matrix on heat map\n",
    "        def print_cmx(y_true, y_pred):\n",
    "            labels = sorted(list(set(y_true)))\n",
    "            cmx_data = confusion_matrix(y_true, y_pred, labels=labels)\n",
    "\n",
    "            df_cmx = pd.DataFrame(cmx_data, index=labels, columns=labels)\n",
    "\n",
    "            plt.figure(figsize = (10,7))\n",
    "            sn.heatmap(df_cmx, annot=True)\n",
    "            plt.show()\n",
    "\n",
    "        # reshape testing target to fit to scikit-learn metric form\n",
    "        y_testPred = model.predict(xTest)\n",
    "        y_testP = toNum(y_testPred)\n",
    "        y_true = toNum(yTest)\n",
    "\n",
    "        # get confusion matrix, classification report and accuracy score\n",
    "        print_cmx(y_true, y_testP)\n",
    "        print(classification_report(y_true, y_testP))\n",
    "        print(\"Accuracy: {0}\".format(accuracy_score(y_true, y_testP)))"
   ]
  },
  {
   "cell_type": "code",
   "execution_count": 17,
   "metadata": {
    "scrolled": true
   },
   "outputs": [
    {
     "data": {
      "image/png": "[encoded data removed]",
      "text/plain": [
       "<matplotlib.figure.Figure at 0x7f3e5848c518>"
      ]
     },
     "metadata": {},
     "output_type": "display_data"
    },
    {
     "name": "stdout",
     "output_type": "stream",
     "text": [
      "             precision    recall  f1-score   support\n",
      "\n",
      "          0       0.61      0.77      0.68      1000\n",
      "          1       0.74      0.84      0.79      1000\n",
      "          2       0.51      0.53      0.52      1000\n",
      "          3       0.52      0.33      0.40      1000\n",
      "          4       0.58      0.57      0.58      1000\n",
      "          5       0.60      0.54      0.57      1000\n",
      "          6       0.69      0.75      0.72      1000\n",
      "          7       0.79      0.65      0.71      1000\n",
      "          8       0.73      0.77      0.74      1000\n",
      "          9       0.74      0.77      0.75      1000\n",
      "\n",
      "avg / total       0.65      0.65      0.65     10000\n",
      "\n",
      "Accuracy: 0.6537\n"
     ]
    }
   ],
   "source": [
    "# evaluate the initial test dataset\n",
    "evaluate(model, x_test, y_test, display=True)"
   ]
  },
  {
   "cell_type": "code",
   "execution_count": 18,
   "metadata": {},
   "outputs": [
    {
     "name": "stdout",
     "output_type": "stream",
     "text": [
      "[1.0257026025772096, 0.65369999999999995]\n"
     ]
    }
   ],
   "source": [
    "# record the loss and accuracy\n",
    "evalHistory = []\n",
    "evalHistory.append(evaluate(model, x_test, y_test, display=False))\n",
    "print(evalHistory[-1])"
   ]
  },
  {
   "cell_type": "code",
   "execution_count": null,
   "metadata": {},
   "outputs": [],
   "source": []
  },
  {
   "cell_type": "markdown",
   "metadata": {},
   "source": [
    "## Now let's use the trained model for active learning"
   ]
  },
  {
   "cell_type": "code",
   "execution_count": 19,
   "metadata": {},
   "outputs": [],
   "source": [
    "# get a list of low margin inference\n",
    "def getLowMargin(proba, bound=0.01):\n",
    "    ls = []\n",
    "    for i in range(len(proba)):\n",
    "        margin = proba[i][np.argsort(proba[i])][-1] - proba[i][np.argsort(proba[i])][-2]\n",
    "        if margin < bound:\n",
    "            ls.append([i,margin])\n",
    "    return ls"
   ]
  },
  {
   "cell_type": "code",
   "execution_count": 20,
   "metadata": {},
   "outputs": [],
   "source": [
    "# concatenate initial training data with low margin of 1st and 2nd choice inference, removing them from remaining data\n",
    "def concatLowMarginData(proba, remainX, remainY, xTrain, yTrain, bound=0.01):\n",
    "    lm = getLowMargin(proba, bound)\n",
    "    print(\"number of data with first and second choice probability lower than {0}: {1}\".format(bound,len(lm)))\n",
    "    \n",
    "    nlm = np.array(np.array(lm)[:,0], dtype=\"int32\")\n",
    "    xAdd = remainX[nlm]\n",
    "    yAdd = remainY[nlm]\n",
    "    print(\"x shape to be added: {0}\\ny shape to be added: {1}\".format(xAdd.shape, yAdd.shape))\n",
    "    \n",
    "    NewXTrain = np.vstack((xTrain, xAdd))\n",
    "    NewYTrain = np.vstack((yTrain, yAdd))\n",
    "    print(\"new training data:\\n\\tx: {0}\\n\\ty: {1}\".format(NewXTrain.shape, NewYTrain.shape))\n",
    "    \n",
    "    remainX2 = np.delete(remainX, nlm, axis=0)\n",
    "    remainY2 = np.delete(remainY, nlm, axis=0)\n",
    "    print(\"remaining data:\\n\\tx: {0}\\n\\ty: {1}\".format(remainX2.shape, remainY2.shape))\n",
    "        \n",
    "    return remainX2, remainY2, NewXTrain, NewYTrain"
   ]
  },
  {
   "cell_type": "code",
   "execution_count": null,
   "metadata": {},
   "outputs": [],
   "source": []
  },
  {
   "cell_type": "code",
   "execution_count": 21,
   "metadata": {},
   "outputs": [
    {
     "name": "stdout",
     "output_type": "stream",
     "text": [
      "number of data with first and second choice probability lower than 0.01: 536\n",
      "x shape to be added: (536, 32, 32, 3)\n",
      "y shape to be added: (536, 10)\n",
      "new training data:\n",
      "\tx: (10536, 32, 32, 3)\n",
      "\ty: (10536, 10)\n",
      "remaining data:\n",
      "\tx: (39464, 32, 32, 3)\n",
      "\ty: (39464, 10)\n"
     ]
    }
   ],
   "source": [
    "# get new training data\n",
    "proba = model.predict_proba(remainXTrain, verbose=0)\n",
    "remainXTrain, remainYTrain, x_train2, y_train2 = concatLowMarginData(proba, \n",
    "                                                                     remainXTrain, \n",
    "                                                                     remainYTrain, \n",
    "                                                                     x_train1, \n",
    "                                                                     y_train1, \n",
    "                                                                     0.01)"
   ]
  },
  {
   "cell_type": "code",
   "execution_count": null,
   "metadata": {},
   "outputs": [],
   "source": []
  },
  {
   "cell_type": "code",
   "execution_count": 22,
   "metadata": {},
   "outputs": [
    {
     "name": "stdout",
     "output_type": "stream",
     "text": [
      "Epoch 00001: val_loss improved from inf to 0.99371, saving model to ./cifar10/act/Cifar10_.01-0.70-0.99.hdf5\n",
      "Epoch 00002: val_loss did not improve\n",
      "Epoch 00002: early stopping\n"
     ]
    }
   ],
   "source": [
    "# retrain the model\n",
    "model = trainModel(model, x_train2, y_train2, x_test, y_test)"
   ]
  },
  {
   "cell_type": "code",
   "execution_count": 23,
   "metadata": {},
   "outputs": [],
   "source": [
    "# load the newest checkpoint model to get the best accuracy one\n",
    "model = getNewestModel()"
   ]
  },
  {
   "cell_type": "code",
   "execution_count": 24,
   "metadata": {
    "scrolled": true
   },
   "outputs": [
    {
     "data": {
      "image/png": "[encoded data removed]",
      "text/plain": [
       "<matplotlib.figure.Figure at 0x7f3e1326d4e0>"
      ]
     },
     "metadata": {},
     "output_type": "display_data"
    },
    {
     "name": "stdout",
     "output_type": "stream",
     "text": [
      "             precision    recall  f1-score   support\n",
      "\n",
      "          0       0.69      0.72      0.70      1000\n",
      "          1       0.73      0.90      0.81      1000\n",
      "          2       0.56      0.54      0.55      1000\n",
      "          3       0.55      0.35      0.43      1000\n",
      "          4       0.62      0.52      0.57      1000\n",
      "          5       0.57      0.61      0.59      1000\n",
      "          6       0.70      0.78      0.73      1000\n",
      "          7       0.67      0.77      0.71      1000\n",
      "          8       0.81      0.76      0.78      1000\n",
      "          9       0.77      0.78      0.78      1000\n",
      "\n",
      "avg / total       0.67      0.67      0.66     10000\n",
      "\n",
      "Accuracy: 0.6712\n"
     ]
    }
   ],
   "source": [
    "# evaluate with the initial test dataset\n",
    "evaluate(model, x_test, y_test, display=True)"
   ]
  },
  {
   "cell_type": "code",
   "execution_count": 25,
   "metadata": {},
   "outputs": [
    {
     "name": "stdout",
     "output_type": "stream",
     "text": [
      "[0.99370813179016115, 0.67120000000000002]\n"
     ]
    }
   ],
   "source": [
    "# record the loss and accuracy\n",
    "evalHistory.append(evaluate(model, x_test, y_test, display=False))\n",
    "print(evalHistory[-1])"
   ]
  },
  {
   "cell_type": "markdown",
   "metadata": {},
   "source": [
    "### repeat active learning for 10 times"
   ]
  },
  {
   "cell_type": "code",
   "execution_count": 26,
   "metadata": {
    "scrolled": true
   },
   "outputs": [
    {
     "name": "stdout",
     "output_type": "stream",
     "text": [
      "number of data with first and second choice probability lower than 0.01: 462\n",
      "x shape to be added: (462, 32, 32, 3)\n",
      "y shape to be added: (462, 10)\n",
      "new training data:\n",
      "\tx: (10998, 32, 32, 3)\n",
      "\ty: (10998, 10)\n",
      "remaining data:\n",
      "\tx: (39002, 32, 32, 3)\n",
      "\ty: (39002, 10)\n",
      "Epoch 00001: val_loss improved from inf to 0.94426, saving model to ./cifar10/act/Cifar10_.01-0.69-0.94.hdf5\n",
      "Epoch 00002: val_loss did not improve\n",
      "Epoch 00002: early stopping\n",
      "\n",
      "After Iter: 0\n",
      "\tLoss and Acc: [0.9442634397506714, 0.67910000000000004]\n",
      "\n",
      "number of data with first and second choice probability lower than 0.01: 500\n",
      "x shape to be added: (500, 32, 32, 3)\n",
      "y shape to be added: (500, 10)\n",
      "new training data:\n",
      "\tx: (11498, 32, 32, 3)\n",
      "\ty: (11498, 10)\n",
      "remaining data:\n",
      "\tx: (38502, 32, 32, 3)\n",
      "\ty: (38502, 10)\n",
      "Epoch 00001: val_loss improved from inf to 0.93913, saving model to ./cifar10/act/Cifar10_.01-0.69-0.94.hdf5\n",
      "Epoch 00002: val_loss did not improve\n",
      "Epoch 00002: early stopping\n",
      "\n",
      "After Iter: 1\n",
      "\tLoss and Acc: [0.9391310482025147, 0.69130000000000003]\n",
      "\n",
      "number of data with first and second choice probability lower than 0.01: 407\n",
      "x shape to be added: (407, 32, 32, 3)\n",
      "y shape to be added: (407, 10)\n",
      "new training data:\n",
      "\tx: (11905, 32, 32, 3)\n",
      "\ty: (11905, 10)\n",
      "remaining data:\n",
      "\tx: (38095, 32, 32, 3)\n",
      "\ty: (38095, 10)\n",
      "Epoch 00001: val_loss improved from inf to 1.00806, saving model to ./cifar10/act/Cifar10_.01-0.67-1.01.hdf5\n",
      "Epoch 00002: val_loss improved from 1.00806 to 0.98480, saving model to ./cifar10/act/Cifar10_.02-0.61-0.98.hdf5\n",
      "Epoch 00003: val_loss improved from 0.98480 to 0.95516, saving model to ./cifar10/act/Cifar10_.03-0.55-0.96.hdf5\n",
      "Epoch 00004: val_loss did not improve\n",
      "Epoch 00004: early stopping\n",
      "\n",
      "After Iter: 2\n",
      "\tLoss and Acc: [0.95515727109909054, 0.69889999999999997]\n",
      "\n",
      "number of data with first and second choice probability lower than 0.01: 344\n",
      "x shape to be added: (344, 32, 32, 3)\n",
      "y shape to be added: (344, 10)\n",
      "new training data:\n",
      "\tx: (12249, 32, 32, 3)\n",
      "\ty: (12249, 10)\n",
      "remaining data:\n",
      "\tx: (37751, 32, 32, 3)\n",
      "\ty: (37751, 10)\n",
      "Epoch 00001: val_loss improved from inf to 0.97829, saving model to ./cifar10/act/Cifar10_.01-0.54-0.98.hdf5\n",
      "Epoch 00002: val_loss improved from 0.97829 to 0.95419, saving model to ./cifar10/act/Cifar10_.02-0.50-0.95.hdf5\n",
      "Epoch 00003: val_loss did not improve\n",
      "Epoch 00003: early stopping\n",
      "\n",
      "After Iter: 3\n",
      "\tLoss and Acc: [0.9541868239402771, 0.70579999999999998]\n",
      "\n",
      "number of data with first and second choice probability lower than 0.01: 301\n",
      "x shape to be added: (301, 32, 32, 3)\n",
      "y shape to be added: (301, 10)\n",
      "new training data:\n",
      "\tx: (12550, 32, 32, 3)\n",
      "\ty: (12550, 10)\n",
      "remaining data:\n",
      "\tx: (37450, 32, 32, 3)\n",
      "\ty: (37450, 10)\n",
      "Epoch 00001: val_loss improved from inf to 1.01365, saving model to ./cifar10/act/Cifar10_.01-0.49-1.01.hdf5\n",
      "Epoch 00002: val_loss improved from 1.01365 to 0.96987, saving model to ./cifar10/act/Cifar10_.02-0.43-0.97.hdf5\n",
      "Epoch 00003: val_loss did not improve\n",
      "Epoch 00003: early stopping\n",
      "\n",
      "After Iter: 4\n",
      "\tLoss and Acc: [0.96987386398315434, 0.70840000000000003]\n",
      "\n",
      "number of data with first and second choice probability lower than 0.01: 259\n",
      "x shape to be added: (259, 32, 32, 3)\n",
      "y shape to be added: (259, 10)\n",
      "new training data:\n",
      "\tx: (12809, 32, 32, 3)\n",
      "\ty: (12809, 10)\n",
      "remaining data:\n",
      "\tx: (37191, 32, 32, 3)\n",
      "\ty: (37191, 10)\n",
      "Epoch 00001: val_loss improved from inf to 0.97120, saving model to ./cifar10/act/Cifar10_.01-0.45-0.97.hdf5\n",
      "Epoch 00002: val_loss did not improve\n",
      "Epoch 00002: early stopping\n",
      "\n",
      "After Iter: 5\n",
      "\tLoss and Acc: [0.97120090036392215, 0.71619999999999995]\n",
      "\n",
      "number of data with first and second choice probability lower than 0.01: 239\n",
      "x shape to be added: (239, 32, 32, 3)\n",
      "y shape to be added: (239, 10)\n",
      "new training data:\n",
      "\tx: (13048, 32, 32, 3)\n",
      "\ty: (13048, 10)\n",
      "remaining data:\n",
      "\tx: (36952, 32, 32, 3)\n",
      "\ty: (36952, 10)\n",
      "Epoch 00001: val_loss improved from inf to 1.09368, saving model to ./cifar10/act/Cifar10_.01-0.47-1.09.hdf5\n",
      "Epoch 00002: val_loss improved from 1.09368 to 0.97147, saving model to ./cifar10/act/Cifar10_.02-0.41-0.97.hdf5\n",
      "Epoch 00003: val_loss did not improve\n",
      "Epoch 00003: early stopping\n",
      "\n",
      "After Iter: 6\n",
      "\tLoss and Acc: [0.97147270307540889, 0.71519999999999995]\n",
      "\n",
      "number of data with first and second choice probability lower than 0.01: 228\n",
      "x shape to be added: (228, 32, 32, 3)\n",
      "y shape to be added: (228, 10)\n",
      "new training data:\n",
      "\tx: (13276, 32, 32, 3)\n",
      "\ty: (13276, 10)\n",
      "remaining data:\n",
      "\tx: (36724, 32, 32, 3)\n",
      "\ty: (36724, 10)\n",
      "Epoch 00001: val_loss improved from inf to 0.97792, saving model to ./cifar10/act/Cifar10_.01-0.41-0.98.hdf5\n",
      "Epoch 00002: val_loss did not improve\n",
      "Epoch 00002: early stopping\n",
      "\n",
      "After Iter: 7\n",
      "\tLoss and Acc: [0.97792120370864866, 0.71930000000000005]\n",
      "\n",
      "number of data with first and second choice probability lower than 0.01: 235\n",
      "x shape to be added: (235, 32, 32, 3)\n",
      "y shape to be added: (235, 10)\n",
      "new training data:\n",
      "\tx: (13511, 32, 32, 3)\n",
      "\ty: (13511, 10)\n",
      "remaining data:\n",
      "\tx: (36489, 32, 32, 3)\n",
      "\ty: (36489, 10)\n",
      "Epoch 00001: val_loss improved from inf to 1.01904, saving model to ./cifar10/act/Cifar10_.01-0.41-1.02.hdf5\n",
      "Epoch 00002: val_loss improved from 1.01904 to 1.00440, saving model to ./cifar10/act/Cifar10_.02-0.38-1.00.hdf5\n",
      "Epoch 00003: val_loss did not improve\n",
      "Epoch 00003: early stopping\n",
      "\n",
      "After Iter: 8\n",
      "\tLoss and Acc: [1.004395508670807, 0.71340000000000003]\n",
      "\n",
      "number of data with first and second choice probability lower than 0.01: 217\n",
      "x shape to be added: (217, 32, 32, 3)\n",
      "y shape to be added: (217, 10)\n",
      "new training data:\n",
      "\tx: (13728, 32, 32, 3)\n",
      "\ty: (13728, 10)\n",
      "remaining data:\n",
      "\tx: (36272, 32, 32, 3)\n",
      "\ty: (36272, 10)\n",
      "Epoch 00001: val_loss improved from inf to 1.04036, saving model to ./cifar10/act/Cifar10_.01-0.40-1.04.hdf5\n",
      "Epoch 00002: val_loss improved from 1.04036 to 1.02468, saving model to ./cifar10/act/Cifar10_.02-0.34-1.02.hdf5\n",
      "Epoch 00003: val_loss did not improve\n",
      "Epoch 00003: early stopping\n",
      "\n",
      "After Iter: 9\n",
      "\tLoss and Acc: [1.0246751784324646, 0.72099999999999997]\n",
      "\n",
      "number of data with first and second choice probability lower than 0.01: 205\n",
      "x shape to be added: (205, 32, 32, 3)\n",
      "y shape to be added: (205, 10)\n",
      "new training data:\n",
      "\tx: (13933, 32, 32, 3)\n",
      "\ty: (13933, 10)\n",
      "remaining data:\n",
      "\tx: (36067, 32, 32, 3)\n",
      "\ty: (36067, 10)\n",
      "Epoch 00001: val_loss improved from inf to 1.02397, saving model to ./cifar10/act/Cifar10_.01-0.37-1.02.hdf5\n",
      "Epoch 00002: val_loss did not improve\n",
      "Epoch 00002: early stopping\n",
      "\n",
      "After Iter: 10\n",
      "\tLoss and Acc: [1.0239658631801605, 0.71230000000000004]\n",
      "\n",
      "number of data with first and second choice probability lower than 0.01: 205\n",
      "x shape to be added: (205, 32, 32, 3)\n",
      "y shape to be added: (205, 10)\n",
      "new training data:\n",
      "\tx: (14138, 32, 32, 3)\n",
      "\ty: (14138, 10)\n",
      "remaining data:\n",
      "\tx: (35862, 32, 32, 3)\n",
      "\ty: (35862, 10)\n",
      "Epoch 00001: val_loss improved from inf to 0.98588, saving model to ./cifar10/act/Cifar10_.01-0.38-0.99.hdf5\n",
      "Epoch 00002: val_loss improved from 0.98588 to 0.98272, saving model to ./cifar10/act/Cifar10_.02-0.34-0.98.hdf5\n",
      "Epoch 00003: val_loss did not improve\n",
      "Epoch 00003: early stopping\n",
      "\n",
      "After Iter: 11\n",
      "\tLoss and Acc: [0.98272076435089106, 0.72170000000000001]\n",
      "\n",
      "number of data with first and second choice probability lower than 0.01: 187\n",
      "x shape to be added: (187, 32, 32, 3)\n",
      "y shape to be added: (187, 10)\n",
      "new training data:\n",
      "\tx: (14325, 32, 32, 3)\n",
      "\ty: (14325, 10)\n",
      "remaining data:\n",
      "\tx: (35675, 32, 32, 3)\n",
      "\ty: (35675, 10)\n",
      "Epoch 00001: val_loss improved from inf to 1.11201, saving model to ./cifar10/act/Cifar10_.01-0.36-1.11.hdf5\n",
      "Epoch 00002: val_loss improved from 1.11201 to 1.07998, saving model to ./cifar10/act/Cifar10_.02-0.33-1.08.hdf5\n",
      "Epoch 00003: val_loss improved from 1.07998 to 0.97978, saving model to ./cifar10/act/Cifar10_.03-0.31-0.98.hdf5\n",
      "Epoch 00004: val_loss did not improve\n",
      "Epoch 00004: early stopping\n",
      "\n",
      "After Iter: 12\n",
      "\tLoss and Acc: [0.97977685317993168, 0.72670000000000001]\n",
      "\n",
      "number of data with first and second choice probability lower than 0.01: 185\n",
      "x shape to be added: (185, 32, 32, 3)\n",
      "y shape to be added: (185, 10)\n",
      "new training data:\n",
      "\tx: (14510, 32, 32, 3)\n",
      "\ty: (14510, 10)\n",
      "remaining data:\n",
      "\tx: (35490, 32, 32, 3)\n",
      "\ty: (35490, 10)\n",
      "Epoch 00001: val_loss improved from inf to 1.07472, saving model to ./cifar10/act/Cifar10_.01-0.32-1.07.hdf5\n",
      "Epoch 00002: val_loss improved from 1.07472 to 1.06276, saving model to ./cifar10/act/Cifar10_.02-0.29-1.06.hdf5\n"
     ]
    },
    {
     "name": "stdout",
     "output_type": "stream",
     "text": [
      "Epoch 00003: val_loss did not improve\n",
      "Epoch 00003: early stopping\n",
      "\n",
      "After Iter: 13\n",
      "\tLoss and Acc: [1.0627579805374145, 0.71760000000000002]\n",
      "\n",
      "number of data with first and second choice probability lower than 0.01: 156\n",
      "x shape to be added: (156, 32, 32, 3)\n",
      "y shape to be added: (156, 10)\n",
      "new training data:\n",
      "\tx: (14666, 32, 32, 3)\n",
      "\ty: (14666, 10)\n",
      "remaining data:\n",
      "\tx: (35334, 32, 32, 3)\n",
      "\ty: (35334, 10)\n",
      "Epoch 00001: val_loss improved from inf to 1.06253, saving model to ./cifar10/act/Cifar10_.01-0.31-1.06.hdf5\n",
      "Epoch 00002: val_loss improved from 1.06253 to 1.05685, saving model to ./cifar10/act/Cifar10_.02-0.28-1.06.hdf5\n",
      "Epoch 00003: val_loss did not improve\n",
      "Epoch 00003: early stopping\n",
      "\n",
      "After Iter: 14\n",
      "\tLoss and Acc: [1.0568457573890686, 0.7268]\n",
      "\n",
      "number of data with first and second choice probability lower than 0.01: 153\n",
      "x shape to be added: (153, 32, 32, 3)\n",
      "y shape to be added: (153, 10)\n",
      "new training data:\n",
      "\tx: (14819, 32, 32, 3)\n",
      "\ty: (14819, 10)\n",
      "remaining data:\n",
      "\tx: (35181, 32, 32, 3)\n",
      "\ty: (35181, 10)\n",
      "Epoch 00001: val_loss improved from inf to 0.96287, saving model to ./cifar10/act/Cifar10_.01-0.32-0.96.hdf5\n",
      "Epoch 00002: val_loss did not improve\n",
      "Epoch 00002: early stopping\n",
      "\n",
      "After Iter: 15\n",
      "\tLoss and Acc: [0.96286618261337276, 0.73109999999999997]\n",
      "\n",
      "number of data with first and second choice probability lower than 0.01: 160\n",
      "x shape to be added: (160, 32, 32, 3)\n",
      "y shape to be added: (160, 10)\n",
      "new training data:\n",
      "\tx: (14979, 32, 32, 3)\n",
      "\ty: (14979, 10)\n",
      "remaining data:\n",
      "\tx: (35021, 32, 32, 3)\n",
      "\ty: (35021, 10)\n",
      "Epoch 00001: val_loss improved from inf to 0.99297, saving model to ./cifar10/act/Cifar10_.01-0.32-0.99.hdf5\n",
      "Epoch 00002: val_loss did not improve\n",
      "Epoch 00002: early stopping\n",
      "\n",
      "After Iter: 16\n",
      "\tLoss and Acc: [0.99297450017929079, 0.73170000000000002]\n",
      "\n",
      "number of data with first and second choice probability lower than 0.01: 151\n",
      "x shape to be added: (151, 32, 32, 3)\n",
      "y shape to be added: (151, 10)\n",
      "new training data:\n",
      "\tx: (15130, 32, 32, 3)\n",
      "\ty: (15130, 10)\n",
      "remaining data:\n",
      "\tx: (34870, 32, 32, 3)\n",
      "\ty: (34870, 10)\n",
      "Epoch 00001: val_loss improved from inf to 1.06809, saving model to ./cifar10/act/Cifar10_.01-0.32-1.07.hdf5\n",
      "Epoch 00002: val_loss improved from 1.06809 to 1.03423, saving model to ./cifar10/act/Cifar10_.02-0.31-1.03.hdf5\n",
      "Epoch 00003: val_loss did not improve\n",
      "Epoch 00003: early stopping\n",
      "\n",
      "After Iter: 17\n",
      "\tLoss and Acc: [1.0342253278255462, 0.73219999999999996]\n",
      "\n",
      "number of data with first and second choice probability lower than 0.01: 136\n",
      "x shape to be added: (136, 32, 32, 3)\n",
      "y shape to be added: (136, 10)\n",
      "new training data:\n",
      "\tx: (15266, 32, 32, 3)\n",
      "\ty: (15266, 10)\n",
      "remaining data:\n",
      "\tx: (34734, 32, 32, 3)\n",
      "\ty: (34734, 10)\n",
      "Epoch 00001: val_loss improved from inf to 1.01083, saving model to ./cifar10/act/Cifar10_.01-0.31-1.01.hdf5\n",
      "Epoch 00002: val_loss did not improve\n",
      "Epoch 00002: early stopping\n",
      "\n",
      "After Iter: 18\n",
      "\tLoss and Acc: [1.0108288338661193, 0.73760000000000003]\n",
      "\n",
      "number of data with first and second choice probability lower than 0.01: 136\n",
      "x shape to be added: (136, 32, 32, 3)\n",
      "y shape to be added: (136, 10)\n",
      "new training data:\n",
      "\tx: (15402, 32, 32, 3)\n",
      "\ty: (15402, 10)\n",
      "remaining data:\n",
      "\tx: (34598, 32, 32, 3)\n",
      "\ty: (34598, 10)\n",
      "Epoch 00001: val_loss improved from inf to 1.03202, saving model to ./cifar10/act/Cifar10_.01-0.32-1.03.hdf5\n",
      "Epoch 00002: val_loss did not improve\n",
      "Epoch 00002: early stopping\n",
      "\n",
      "After Iter: 19\n",
      "\tLoss and Acc: [1.0320199868202209, 0.73750000000000004]\n",
      "\n"
     ]
    }
   ],
   "source": [
    "for i in range(20):\n",
    "    proba = model.predict_proba(remainXTrain, verbose=0)\n",
    "    remainXTrain, remainYTrain, x_train2, y_train2 = concatLowMarginData(proba, \n",
    "                                                                         remainXTrain, \n",
    "                                                                         remainYTrain, \n",
    "                                                                         x_train2, \n",
    "                                                                         y_train2, \n",
    "                                                                         0.01)\n",
    "    model = trainModel(model, x_train2, y_train2, x_test, y_test)\n",
    "    model = getNewestModel()\n",
    "    evalHistory.append(evaluate(model, x_test, y_test, display=False))\n",
    "    print(\"\\nAfter Iter: {0}\\n\\tLoss and Acc: {1}\\n\".format(i,evalHistory[-1]))"
   ]
  },
  {
   "cell_type": "code",
   "execution_count": 27,
   "metadata": {
    "scrolled": true
   },
   "outputs": [
    {
     "data": {
      "image/png": "[encoded data removed]",
      "text/plain": [
       "<matplotlib.figure.Figure at 0x7f3e12ffaf98>"
      ]
     },
     "metadata": {},
     "output_type": "display_data"
    },
    {
     "name": "stdout",
     "output_type": "stream",
     "text": [
      "             precision    recall  f1-score   support\n",
      "\n",
      "          0       0.75      0.79      0.77      1000\n",
      "          1       0.81      0.89      0.85      1000\n",
      "          2       0.74      0.55      0.63      1000\n",
      "          3       0.54      0.56      0.55      1000\n",
      "          4       0.64      0.75      0.69      1000\n",
      "          5       0.69      0.59      0.64      1000\n",
      "          6       0.75      0.83      0.79      1000\n",
      "          7       0.78      0.76      0.77      1000\n",
      "          8       0.89      0.80      0.84      1000\n",
      "          9       0.81      0.84      0.83      1000\n",
      "\n",
      "avg / total       0.74      0.74      0.74     10000\n",
      "\n",
      "Accuracy: 0.7375\n"
     ]
    }
   ],
   "source": [
    "# evaluate the initial test dataset\n",
    "evaluate(model, x_test, y_test, display=True)"
   ]
  },
  {
   "cell_type": "markdown",
   "metadata": {},
   "source": [
    "## wrap up the active learning"
   ]
  },
  {
   "cell_type": "code",
   "execution_count": 36,
   "metadata": {},
   "outputs": [
    {
     "data": {
      "text/plain": [
       "[3586, 3815, 3240, 3014, 3298, 3210, 3522, 3521, 3681, 3711]"
      ]
     },
     "execution_count": 36,
     "metadata": {},
     "output_type": "execute_result"
    }
   ],
   "source": [
    "# show remaining data in each label\n",
    "remainLabel = [0]*10\n",
    "for y in remainYTrain:\n",
    "    remainLabel[np.argmax(y)] += 1\n",
    "remainLabel"
   ]
  },
  {
   "cell_type": "code",
   "execution_count": 37,
   "metadata": {},
   "outputs": [
    {
     "data": {
      "text/plain": [
       "[1414, 1185, 1760, 1986, 1702, 1790, 1478, 1479, 1319, 1289]"
      ]
     },
     "execution_count": 37,
     "metadata": {},
     "output_type": "execute_result"
    }
   ],
   "source": [
    "# show data in each label used on training\n",
    "usedLabels = [5000-i for i in remainLabel]\n",
    "usedLabels"
   ]
  },
  {
   "cell_type": "code",
   "execution_count": 39,
   "metadata": {},
   "outputs": [
    {
     "data": {
      "image/png": "[encoded data removed]",
      "text/plain": [
       "<matplotlib.figure.Figure at 0x7f3da4320fd0>"
      ]
     },
     "metadata": {},
     "output_type": "display_data"
    }
   ],
   "source": [
    "# show graph for the data used and remaining data\n",
    "import matplotlib.pyplot as plt\n",
    "plt.figure(figsize = (10,7))\n",
    "\n",
    "w = 0.4\n",
    "l1 = list(range(10))\n",
    "\n",
    "plt.bar(l1, usedLabels, align='center', color=\"blue\", width=w, label='trained')\n",
    "plt.bar(l1, remainLabel, align='center', color=\"green\", width=w, label='remaining', bottom=usedLabels)\n",
    "plt.legend()\n",
    "plt.xlabel(\"Labels\")\n",
    "plt.ylabel(\"Data trained and remaining\")\n",
    "\n",
    "plt.xticks(l1, labels)\n",
    "plt.show()"
   ]
  },
  {
   "cell_type": "code",
   "execution_count": 40,
   "metadata": {},
   "outputs": [
    {
     "data": {
      "image/png": "[encoded data removed]",
      "text/plain": [
       "<matplotlib.figure.Figure at 0x7f3da44a2780>"
      ]
     },
     "metadata": {},
     "output_type": "display_data"
    }
   ],
   "source": [
    "# show evaluation history\n",
    "npeh = np.array(evalHistory)\n",
    "fig, ax1 = plt.subplots(figsize=(10,7))\n",
    "epochHis = list(range(22))\n",
    "ax1.plot(epochHis, npeh[:,0], \"b\", label=\"Loss\")\n",
    "ax1.set_xlabel(\"Epochs\")\n",
    "ax1.set_ylabel(\"Loss\")\n",
    "ax1.legend()\n",
    "\n",
    "ax2 = ax1.twinx()\n",
    "ax2.plot(epochHis, npeh[:,1], \"r\", label=\"Accuracy\")\n",
    "ax2.set_ylabel(\"Accuracy\")\n",
    "ax2.legend()\n",
    "\n",
    "plt.show()"
   ]
  },
  {
   "cell_type": "code",
   "execution_count": null,
   "metadata": {},
   "outputs": [],
   "source": []
  },
  {
   "cell_type": "code",
   "execution_count": null,
   "metadata": {},
   "outputs": [],
   "source": []
  },
  {
   "cell_type": "code",
   "execution_count": null,
   "metadata": {},
   "outputs": [],
   "source": []
  },
  {
   "cell_type": "code",
   "execution_count": null,
   "metadata": {},
   "outputs": [],
   "source": []
  },
  {
   "cell_type": "code",
   "execution_count": null,
   "metadata": {},
   "outputs": [],
   "source": []
  }
 ],
 "metadata": {
  "anaconda-cloud": {},
  "kernelspec": {
   "display_name": "Python 3",
   "language": "python",
   "name": "python3"
  },
  "language_info": {
   "codemirror_mode": {
    "name": "ipython",
    "version": 3
   },
   "file_extension": ".py",
   "mimetype": "text/x-python",
   "name": "python",
   "nbconvert_exporter": "python",
   "pygments_lexer": "ipython3",
   "version": "3.6.3"
  }
 },
 "nbformat": 4,
 "nbformat_minor": 1
}
