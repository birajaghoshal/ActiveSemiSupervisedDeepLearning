{
 "cells": [
  {
   "cell_type": "markdown",
   "metadata": {},
   "source": [
    "# Active learning and semi-supervised learning on image classification"
   ]
  },
  {
   "cell_type": "markdown",
   "metadata": {},
   "source": [
    "## Prerequisite\n",
    "You are going to train image classification using Cifar10.<br>\n",
    "Assume you only have a part of the dataset labeled, while you have a plenty of unlabeled data.<br><br>\n",
    "Initially you only have 10000 images, with labels.<br>\n",
    "In this situation, you start the model training with the only dataset you have, and retrain gradually by adding data.<br>\n",
    "There are three strategies for adding data:\n",
    "1. Semi-supervised learning: make inference on unlabeled data and add those with high probability as labeled training data.\n",
    "2. Active learning: add those with high importance as labeled training data, and a human has to label them.\n",
    "3. Combination of both\n",
    "\n",
    "## Trying for 3. Combination of active and semi-supervised learning"
   ]
  },
  {
   "cell_type": "markdown",
   "metadata": {},
   "source": [
    "## This notebook simulates active learning using Cifar10 CNN"
   ]
  },
  {
   "cell_type": "markdown",
   "metadata": {},
   "source": [
    "### Train a base model"
   ]
  },
  {
   "cell_type": "code",
   "execution_count": 1,
   "metadata": {},
   "outputs": [
    {
     "name": "stdout",
     "output_type": "stream",
     "text": [
      "tensorflow\n"
     ]
    }
   ],
   "source": [
    "# set Keras backend to Tensorflow\n",
    "import os\n",
    "os.environ[\"KERAS_BACKEND\"] = \"tensorflow\"\n",
    "kerasBKED = os.environ[\"KERAS_BACKEND\"] \n",
    "print(kerasBKED)"
   ]
  },
  {
   "cell_type": "code",
   "execution_count": 2,
   "metadata": {},
   "outputs": [
    {
     "name": "stderr",
     "output_type": "stream",
     "text": [
      "Using TensorFlow backend.\n",
      "/opt/anaconda3/lib/python3.6/importlib/_bootstrap.py:219: RuntimeWarning: compiletime version 3.5 of module 'tensorflow.python.framework.fast_tensor_util' does not match runtime version 3.6\n",
      "  return f(*args, **kwds)\n"
     ]
    }
   ],
   "source": [
    "# import\n",
    "import keras\n",
    "from keras.models import load_model\n",
    "from keras.datasets import cifar10\n",
    "from keras.models import Sequential\n",
    "from keras.layers import Dense, Dropout, Activation, Flatten\n",
    "from keras.layers import Conv2D, MaxPooling2D, InputLayer\n",
    "from keras.callbacks import EarlyStopping, ModelCheckpoint\n",
    "from sklearn.model_selection import train_test_split\n",
    "import os\n",
    "import pickle\n",
    "import numpy as np"
   ]
  },
  {
   "cell_type": "code",
   "execution_count": 3,
   "metadata": {},
   "outputs": [],
   "source": [
    "# make saving directory\n",
    "saveDir = \"./cifar10/comb/\"\n",
    "if not os.path.isdir(saveDir):\n",
    "    os.makedirs(saveDir)"
   ]
  },
  {
   "cell_type": "markdown",
   "metadata": {},
   "source": [
    "## load Cifar10 images and divide them to inititial, first, second and third sets.\n",
    "Assuming to train a Cifar10 CNN model with data increasing gradually, I get the following datasets:\n",
    "- initial training set: 10000 images\n",
    "- unlabeled training set: 40000 images\n",
    "- test set: 10000 images"
   ]
  },
  {
   "cell_type": "code",
   "execution_count": 4,
   "metadata": {},
   "outputs": [
    {
     "name": "stdout",
     "output_type": "stream",
     "text": [
      "x train shape: (50000, 32, 32, 3)\n",
      "50000 training images\n",
      "10000 test images\n"
     ]
    }
   ],
   "source": [
    "# get Cifar10 dataset\n",
    "(x_train, y_train), (x_test, y_test) = cifar10.load_data()\n",
    "\n",
    "print('x train shape:', x_train.shape)\n",
    "print(x_train.shape[0], 'training images')\n",
    "print(x_test.shape[0], 'test images')"
   ]
  },
  {
   "cell_type": "code",
   "execution_count": 5,
   "metadata": {},
   "outputs": [],
   "source": [
    "# prerequisite\n",
    "num_classes = 10\n",
    "y_train = keras.utils.to_categorical(y_train, num_classes)\n",
    "y_test = keras.utils.to_categorical(y_test, num_classes)\n",
    "\n",
    "x_train = x_train.astype('float32')\n",
    "x_test = x_test.astype('float32')\n",
    "x_train /= 255\n",
    "x_test /= 255"
   ]
  },
  {
   "cell_type": "code",
   "execution_count": 6,
   "metadata": {},
   "outputs": [],
   "source": [
    "initNum = 10000\n",
    "x_train1 = x_train[:initNum]\n",
    "y_train1 = y_train[:initNum]\n",
    "remainXTrain = x_train[initNum:]\n",
    "remainYTrain = y_train[initNum:]"
   ]
  },
  {
   "cell_type": "code",
   "execution_count": 7,
   "metadata": {},
   "outputs": [
    {
     "name": "stdout",
     "output_type": "stream",
     "text": [
      "initial training X: (10000, 32, 32, 3)\n",
      "initial training Y: (10000, 10)\n",
      "remaining training X: (40000, 32, 32, 3)\n",
      "remaining training Y: (40000, 10)\n",
      "test X: (10000, 32, 32, 3)\n",
      "test Y: (10000, 10)\n"
     ]
    }
   ],
   "source": [
    "print(\"initial training X: {0}\\n\\\n",
    "initial training Y: {1}\\n\\\n",
    "remaining training X: {2}\\n\\\n",
    "remaining training Y: {3}\\n\\\n",
    "test X: {4}\\n\\\n",
    "test Y: {5}\".format(\n",
    "    x_train1.shape,y_train1.shape,remainXTrain.shape,remainYTrain.shape,x_test.shape,y_test.shape))"
   ]
  },
  {
   "cell_type": "code",
   "execution_count": 8,
   "metadata": {},
   "outputs": [],
   "source": [
    "labels = [\"airplane\",\"automobile\",\"bird\",\"cat\",\"deer\",\"dog\",\"frog\",\"horse\",\"ship\",\"truck\"]"
   ]
  },
  {
   "cell_type": "code",
   "execution_count": null,
   "metadata": {},
   "outputs": [],
   "source": []
  },
  {
   "cell_type": "markdown",
   "metadata": {},
   "source": [
    "## Define the CNN model in Keras"
   ]
  },
  {
   "cell_type": "code",
   "execution_count": 9,
   "metadata": {},
   "outputs": [],
   "source": [
    "# optimization and compile\n",
    "def compileModel(model, lr=0.001, decay=1e-6):\n",
    "    opt = keras.optimizers.adam(lr=lr, decay=decay)\n",
    "\n",
    "    model.compile(loss='categorical_crossentropy',\n",
    "                  optimizer=opt,\n",
    "                  metrics=['accuracy'])\n",
    "    \n",
    "    return model"
   ]
  },
  {
   "cell_type": "code",
   "execution_count": 10,
   "metadata": {},
   "outputs": [],
   "source": [
    "# define layers\n",
    "def getModel(loadModel=False, modelFilePath=\"\", lr=0.001, decay=1e-6):\n",
    "    model = Sequential()\n",
    "    model.add(Conv2D(64, (3, 3), padding='same', input_shape=x_train.shape[1:]))\n",
    "    model.add(Activation('relu'))\n",
    "    model.add(Conv2D(64, (3, 3)))\n",
    "    model.add(Activation('relu'))\n",
    "    model.add(MaxPooling2D(pool_size=(2, 2)))\n",
    "    model.add(Dropout(0.25))\n",
    "\n",
    "    model.add(Conv2D(128, (3, 3), padding='same'))\n",
    "    model.add(Activation('relu'))\n",
    "    model.add(Conv2D(128, (3, 3)))\n",
    "    model.add(Activation('relu'))\n",
    "    model.add(MaxPooling2D(pool_size=(2, 2)))\n",
    "    model.add(Dropout(0.25))\n",
    "    \n",
    "    model.add(Flatten())\n",
    "    model.add(Dense(1024))\n",
    "    model.add(Activation('relu'))\n",
    "    model.add(Dropout(0.5))\n",
    "    model.add(Dense(num_classes))\n",
    "    model.add(Activation('softmax'))\n",
    "    \n",
    "    model = compileModel(model)\n",
    "    \n",
    "    # load model weights if specified\n",
    "    if loadModel == True:\n",
    "        model.load_weights(modelFilePath)\n",
    "    \n",
    "    return model"
   ]
  },
  {
   "cell_type": "code",
   "execution_count": 11,
   "metadata": {},
   "outputs": [],
   "source": [
    "# get the newest model file\n",
    "def getNewestModel(dirname=saveDir):\n",
    "    import os\n",
    "    from glob import glob\n",
    "    target = os.path.join(dirname, '*')\n",
    "    files = [(f, os.path.getmtime(f)) for f in glob(target)]\n",
    "    if len(files) == 0:\n",
    "        return getModel()\n",
    "    else:\n",
    "        newestModel = sorted(files, key=lambda files: files[1])[-1]\n",
    "        return getModel(True, newestModel[0])"
   ]
  },
  {
   "cell_type": "code",
   "execution_count": 12,
   "metadata": {},
   "outputs": [],
   "source": [
    "# get the CNN model\n",
    "model = getModel()"
   ]
  },
  {
   "cell_type": "code",
   "execution_count": 13,
   "metadata": {
    "scrolled": true
   },
   "outputs": [],
   "source": [
    "# train the model\n",
    "def trainModel(model, xTrain, yTrain, xTest, yTest, batch_size=50, epochs=100, patience=1):\n",
    "    es_cb = EarlyStopping(monitor='val_loss', patience=patience, verbose=1, mode='auto')\n",
    "    chkpt = os.path.join(saveDir, 'Cifar10_.{epoch:02d}-{loss:.2f}-{val_loss:.2f}.hdf5')\n",
    "    cp_cb = ModelCheckpoint(filepath = chkpt, monitor='val_loss', verbose=1, save_best_only=True, mode='auto')\n",
    "\n",
    "    # train\n",
    "    model.fit(xTrain, yTrain,\n",
    "              batch_size=batch_size,\n",
    "              epochs=epochs,\n",
    "              verbose=0,\n",
    "              validation_data=(xTest, yTest),\n",
    "              callbacks=[es_cb, cp_cb],\n",
    "              shuffle=True)\n",
    "    return model"
   ]
  },
  {
   "cell_type": "markdown",
   "metadata": {},
   "source": [
    "### Training the model for the initial dataset"
   ]
  },
  {
   "cell_type": "code",
   "execution_count": 14,
   "metadata": {},
   "outputs": [],
   "source": [
    "# run training on the initial dataset\n",
    "\n",
    "# model = trainModel(model, x_train1, y_train1, x_test, y_test, patience=2)"
   ]
  },
  {
   "cell_type": "code",
   "execution_count": 15,
   "metadata": {},
   "outputs": [],
   "source": [
    "# use the pre-trained model, with 65% accuracy on test data\n",
    "\n",
    "model.load_weights(\"./cifar10/Cifar10_.01-0.75-1.03.hdf5\")"
   ]
  },
  {
   "cell_type": "code",
   "execution_count": 16,
   "metadata": {},
   "outputs": [],
   "source": [
    "# define evaluation method\n",
    "def evaluate(model, xTest, yTest, display=False):\n",
    "    # only shows loss and accuracy\n",
    "    if display == False:\n",
    "        ev = model.evaluate(xTest, yTest, verbose=0)\n",
    "        return ev\n",
    "    # shows confusion matrix, classification report and accuracy score\n",
    "    else:\n",
    "        import pandas as pd\n",
    "        import seaborn as sn\n",
    "        import matplotlib.pyplot as plt\n",
    "        from sklearn.metrics import confusion_matrix\n",
    "        from sklearn.metrics import classification_report, accuracy_score\n",
    "\n",
    "        def toNum(y):\n",
    "            yNum = []\n",
    "            for x in y:\n",
    "                yNum.append(x.argmax())\n",
    "            return np.array(yNum)\n",
    "\n",
    "        # visualize confusion matrix on heat map\n",
    "        def print_cmx(y_true, y_pred):\n",
    "            labels = sorted(list(set(y_true)))\n",
    "            cmx_data = confusion_matrix(y_true, y_pred, labels=labels)\n",
    "\n",
    "            df_cmx = pd.DataFrame(cmx_data, index=labels, columns=labels)\n",
    "\n",
    "            plt.figure(figsize = (10,7))\n",
    "            sn.heatmap(df_cmx, annot=True)\n",
    "            plt.show()\n",
    "\n",
    "        # reshape testing target to fit to scikit-learn metric form\n",
    "        y_testPred = model.predict(xTest)\n",
    "        y_testP = toNum(y_testPred)\n",
    "        y_true = toNum(yTest)\n",
    "\n",
    "        # get confusion matrix, classification report and accuracy score\n",
    "        print_cmx(y_true, y_testP)\n",
    "        print(classification_report(y_true, y_testP))\n",
    "        print(\"Accuracy: {0}\".format(accuracy_score(y_true, y_testP)))"
   ]
  },
  {
   "cell_type": "code",
   "execution_count": 17,
   "metadata": {
    "scrolled": true
   },
   "outputs": [
    {
     "data": {
      "image/png": "[encoded data removed]",
      "text/plain": [
       "<matplotlib.figure.Figure at 0x7f4c5434c5f8>"
      ]
     },
     "metadata": {},
     "output_type": "display_data"
    },
    {
     "name": "stdout",
     "output_type": "stream",
     "text": [
      "             precision    recall  f1-score   support\n",
      "\n",
      "          0       0.61      0.77      0.68      1000\n",
      "          1       0.74      0.84      0.79      1000\n",
      "          2       0.51      0.53      0.52      1000\n",
      "          3       0.52      0.33      0.40      1000\n",
      "          4       0.58      0.57      0.58      1000\n",
      "          5       0.60      0.54      0.57      1000\n",
      "          6       0.69      0.75      0.72      1000\n",
      "          7       0.79      0.65      0.71      1000\n",
      "          8       0.73      0.77      0.74      1000\n",
      "          9       0.74      0.77      0.75      1000\n",
      "\n",
      "avg / total       0.65      0.65      0.65     10000\n",
      "\n",
      "Accuracy: 0.6537\n"
     ]
    }
   ],
   "source": [
    "# evaluate the initial test dataset\n",
    "evaluate(model, x_test, y_test, display=True)"
   ]
  },
  {
   "cell_type": "code",
   "execution_count": 18,
   "metadata": {},
   "outputs": [
    {
     "name": "stdout",
     "output_type": "stream",
     "text": [
      "[1.0257026025772096, 0.65369999999999995]\n"
     ]
    }
   ],
   "source": [
    "# record the loss and accuracy\n",
    "evalHistory = []\n",
    "evalHistory.append(evaluate(model, x_test, y_test, display=False))\n",
    "print(evalHistory[-1])"
   ]
  },
  {
   "cell_type": "code",
   "execution_count": null,
   "metadata": {},
   "outputs": [],
   "source": []
  },
  {
   "cell_type": "markdown",
   "metadata": {},
   "source": [
    "## Now let's use the trained model for active learning"
   ]
  },
  {
   "cell_type": "code",
   "execution_count": 19,
   "metadata": {},
   "outputs": [],
   "source": [
    "# get a list of low margin inference\n",
    "def getLowMargin(proba, bound=0.01):\n",
    "    ls = []\n",
    "    for i in range(len(proba)):\n",
    "        margin = proba[i][np.argsort(proba[i])][-1] - proba[i][np.argsort(proba[i])][-2]\n",
    "        if margin < bound:\n",
    "            ls.append([i,margin])\n",
    "    return ls"
   ]
  },
  {
   "cell_type": "code",
   "execution_count": 20,
   "metadata": {},
   "outputs": [],
   "source": [
    "# get a list of high probability inference\n",
    "def getHighProb(proba, bound):\n",
    "    ls = []\n",
    "    for i in range(len(proba)):\n",
    "        for p in range(len(proba[i])):\n",
    "            if proba[i,p] > bound:\n",
    "                ls.append([i,p])\n",
    "    return ls"
   ]
  },
  {
   "cell_type": "code",
   "execution_count": 21,
   "metadata": {},
   "outputs": [],
   "source": [
    "# concatenate initial training data with low margin of 1st and 2nd choice inference and high probability\n",
    "# removing them from remaining data\n",
    "def concatData(proba, remainX, remainY, xTrain, yTrain, Lbound=0.01, Hbound=0.99):\n",
    "    lm = getLowMargin(proba, Lbound)\n",
    "    print(\"number of data with first and second choice probability lower than {0}: {1}\".format(Lbound,len(lm)))\n",
    "    hp = getHighProb(proba, Hbound)\n",
    "    print(\"number of data with probability higher than {0}: {1}\".format(Hbound,len(hp)))\n",
    "    \n",
    "    nlm = np.array(np.array(lm)[:,0], dtype=\"int32\")\n",
    "    lxAdd = remainX[nlm]\n",
    "    lyAdd = remainY[nlm]\n",
    "    print(\"x shape to be added from low margin: {0}\\ny shape to be added: {1}\".format(lxAdd.shape, lyAdd.shape))\n",
    "    \n",
    "    nhp = np.array(hp)\n",
    "    hxAdd = remainX[nhp[:,0]]\n",
    "    hyAdd = np.array([nhp[:,1]]).T\n",
    "    hyAdd = keras.utils.to_categorical(hyAdd, num_classes)\n",
    "    yActual = remainY[nhp[:,0]]\n",
    "    print(\"x shape to be added from high probability: {0}\\ny shape to be added: {1}\".format(hxAdd.shape, hyAdd.shape))\n",
    "    \n",
    "    ixAdd = np.vstack((lxAdd, hxAdd))\n",
    "    iyAdd = np.vstack((lyAdd, hyAdd))\n",
    "    nlmhp = np.hstack((nhp[:,0],nlm))\n",
    "    \n",
    "    NewXTrain = np.vstack((xTrain, ixAdd))\n",
    "    NewYTrain = np.vstack((yTrain, iyAdd))\n",
    "    print(\"new training data:\\n\\tx: {0}\\n\\ty: {1}\".format(NewXTrain.shape, NewYTrain.shape))\n",
    "    \n",
    "    remainX2 = np.delete(remainX, nlmhp, axis=0)\n",
    "    remainY2 = np.delete(remainY, nlmhp, axis=0)\n",
    "    print(\"remaining data:\\n\\tx: {0}\\n\\ty: {1}\".format(remainX2.shape, remainY2.shape))\n",
    "        \n",
    "    yEval = [[yActual[i],hyAdd[i]] for i in range(len(hyAdd))]\n",
    "    \n",
    "    return remainX2, remainY2, NewXTrain, NewYTrain, yEval"
   ]
  },
  {
   "cell_type": "code",
   "execution_count": 22,
   "metadata": {},
   "outputs": [],
   "source": [
    "def getError(yEval):\n",
    "    errLabel = [0]*10\n",
    "    for i in range(len(yEval)):\n",
    "        if False in (yEval[i][0] == yEval[i][1]):\n",
    "            errLabel[np.argmax(yEval[i][0]-yEval[i][1])] += 1\n",
    "    return errLabel"
   ]
  },
  {
   "cell_type": "code",
   "execution_count": 23,
   "metadata": {},
   "outputs": [],
   "source": [
    "proba = model.predict_proba(remainXTrain, verbose=0)"
   ]
  },
  {
   "cell_type": "code",
   "execution_count": 24,
   "metadata": {
    "scrolled": true
   },
   "outputs": [
    {
     "name": "stdout",
     "output_type": "stream",
     "text": [
      "number of data with first and second choice probability lower than 0.01: 536\n",
      "number of data with probability higher than 0.9999: 611\n",
      "x shape to be added from low margin: (536, 32, 32, 3)\n",
      "y shape to be added: (536, 10)\n",
      "x shape to be added from high probability: (611, 32, 32, 3)\n",
      "y shape to be added: (611, 10)\n",
      "new training data:\n",
      "\tx: (11147, 32, 32, 3)\n",
      "\ty: (11147, 10)\n",
      "remaining data:\n",
      "\tx: (38853, 32, 32, 3)\n",
      "\ty: (38853, 10)\n"
     ]
    }
   ],
   "source": [
    "# get new training data from high probability\n",
    "remainXTrain, remainYTrain, x_train2, y_train2, yEval= concatData(proba, \n",
    "                                                                  remainXTrain, \n",
    "                                                                  remainYTrain, \n",
    "                                                                  x_train1, \n",
    "                                                                  y_train1, \n",
    "                                                                  0.01,\n",
    "                                                                  0.9999)\n",
    "errPred = getError(yEval)"
   ]
  },
  {
   "cell_type": "code",
   "execution_count": null,
   "metadata": {},
   "outputs": [],
   "source": []
  },
  {
   "cell_type": "code",
   "execution_count": 25,
   "metadata": {},
   "outputs": [
    {
     "name": "stdout",
     "output_type": "stream",
     "text": [
      "Epoch 00001: val_loss improved from inf to 0.97065, saving model to ./cifar10/comb/Cifar10_.01-0.67-0.97.hdf5\n",
      "Epoch 00002: val_loss did not improve\n",
      "Epoch 00002: early stopping\n"
     ]
    }
   ],
   "source": [
    "# retrain the model\n",
    "model = trainModel(model, x_train2, y_train2, x_test, y_test)"
   ]
  },
  {
   "cell_type": "code",
   "execution_count": 26,
   "metadata": {},
   "outputs": [],
   "source": [
    "# load the newest checkpoint model to get the best accuracy one\n",
    "model = getNewestModel()"
   ]
  },
  {
   "cell_type": "code",
   "execution_count": 27,
   "metadata": {
    "scrolled": true
   },
   "outputs": [
    {
     "data": {
      "image/png": "[encoded data removed]",
      "text/plain": [
       "<matplotlib.figure.Figure at 0x7f4bd00c32e8>"
      ]
     },
     "metadata": {},
     "output_type": "display_data"
    },
    {
     "name": "stdout",
     "output_type": "stream",
     "text": [
      "             precision    recall  f1-score   support\n",
      "\n",
      "          0       0.74      0.70      0.72      1000\n",
      "          1       0.76      0.89      0.82      1000\n",
      "          2       0.61      0.49      0.55      1000\n",
      "          3       0.53      0.43      0.48      1000\n",
      "          4       0.60      0.56      0.58      1000\n",
      "          5       0.56      0.61      0.58      1000\n",
      "          6       0.71      0.81      0.76      1000\n",
      "          7       0.66      0.77      0.71      1000\n",
      "          8       0.81      0.75      0.78      1000\n",
      "          9       0.79      0.79      0.79      1000\n",
      "\n",
      "avg / total       0.68      0.68      0.68     10000\n",
      "\n",
      "Accuracy: 0.6806\n"
     ]
    }
   ],
   "source": [
    "# evaluate with the initial test dataset\n",
    "evaluate(model, x_test, y_test, display=True)"
   ]
  },
  {
   "cell_type": "code",
   "execution_count": 28,
   "metadata": {},
   "outputs": [
    {
     "name": "stdout",
     "output_type": "stream",
     "text": [
      "[0.97065002174377446, 0.68059999999999998]\n"
     ]
    }
   ],
   "source": [
    "# record the loss and accuracy\n",
    "evalHistory.append(evaluate(model, x_test, y_test, display=False))\n",
    "print(evalHistory[-1])"
   ]
  },
  {
   "cell_type": "markdown",
   "metadata": {},
   "source": [
    "### repeat active learning for 10 times"
   ]
  },
  {
   "cell_type": "code",
   "execution_count": 29,
   "metadata": {
    "scrolled": true
   },
   "outputs": [
    {
     "name": "stdout",
     "output_type": "stream",
     "text": [
      "number of data with first and second choice probability lower than 0.01: 468\n",
      "number of data with probability higher than 0.9999: 433\n",
      "x shape to be added from low margin: (468, 32, 32, 3)\n",
      "y shape to be added: (468, 10)\n",
      "x shape to be added from high probability: (433, 32, 32, 3)\n",
      "y shape to be added: (433, 10)\n",
      "new training data:\n",
      "\tx: (12048, 32, 32, 3)\n",
      "\ty: (12048, 10)\n",
      "remaining data:\n",
      "\tx: (37952, 32, 32, 3)\n",
      "\ty: (37952, 10)\n",
      "Epoch 00001: val_loss improved from inf to 1.04219, saving model to ./cifar10/comb/Cifar10_.01-0.64-1.04.hdf5\n",
      "Epoch 00002: val_loss improved from 1.04219 to 0.98327, saving model to ./cifar10/comb/Cifar10_.02-0.57-0.98.hdf5\n",
      "Epoch 00003: val_loss did not improve\n",
      "Epoch 00003: early stopping\n",
      "\n",
      "After Iter: 0\n",
      "\tLoss and Acc: [0.98326908454895023, 0.68520000000000003]\n",
      "\n",
      "number of data with first and second choice probability lower than 0.01: 374\n",
      "number of data with probability higher than 0.9999: 952\n",
      "x shape to be added from low margin: (374, 32, 32, 3)\n",
      "y shape to be added: (374, 10)\n",
      "x shape to be added from high probability: (952, 32, 32, 3)\n",
      "y shape to be added: (952, 10)\n",
      "new training data:\n",
      "\tx: (13374, 32, 32, 3)\n",
      "\ty: (13374, 10)\n",
      "remaining data:\n",
      "\tx: (36626, 32, 32, 3)\n",
      "\ty: (36626, 10)\n",
      "Epoch 00001: val_loss improved from inf to 0.98434, saving model to ./cifar10/comb/Cifar10_.01-0.55-0.98.hdf5\n",
      "Epoch 00002: val_loss improved from 0.98434 to 0.95811, saving model to ./cifar10/comb/Cifar10_.02-0.49-0.96.hdf5\n",
      "Epoch 00003: val_loss did not improve\n",
      "Epoch 00003: early stopping\n",
      "\n",
      "After Iter: 1\n",
      "\tLoss and Acc: [0.95811115913391109, 0.68600000000000005]\n",
      "\n",
      "number of data with first and second choice probability lower than 0.01: 391\n",
      "number of data with probability higher than 0.9999: 426\n",
      "x shape to be added from low margin: (391, 32, 32, 3)\n",
      "y shape to be added: (391, 10)\n",
      "x shape to be added from high probability: (426, 32, 32, 3)\n",
      "y shape to be added: (426, 10)\n",
      "new training data:\n",
      "\tx: (14191, 32, 32, 3)\n",
      "\ty: (14191, 10)\n",
      "remaining data:\n",
      "\tx: (35809, 32, 32, 3)\n",
      "\ty: (35809, 10)\n",
      "Epoch 00001: val_loss improved from inf to 0.96637, saving model to ./cifar10/comb/Cifar10_.01-0.49-0.97.hdf5\n",
      "Epoch 00002: val_loss improved from 0.96637 to 0.96302, saving model to ./cifar10/comb/Cifar10_.02-0.44-0.96.hdf5\n",
      "Epoch 00003: val_loss did not improve\n",
      "Epoch 00003: early stopping\n",
      "\n",
      "After Iter: 2\n",
      "\tLoss and Acc: [0.96302310562133786, 0.68400000000000005]\n",
      "\n",
      "number of data with first and second choice probability lower than 0.01: 374\n",
      "number of data with probability higher than 0.9999: 321\n",
      "x shape to be added from low margin: (374, 32, 32, 3)\n",
      "y shape to be added: (374, 10)\n",
      "x shape to be added from high probability: (321, 32, 32, 3)\n",
      "y shape to be added: (321, 10)\n",
      "new training data:\n",
      "\tx: (14886, 32, 32, 3)\n",
      "\ty: (14886, 10)\n",
      "remaining data:\n",
      "\tx: (35114, 32, 32, 3)\n",
      "\ty: (35114, 10)\n",
      "Epoch 00001: val_loss improved from inf to 0.97982, saving model to ./cifar10/comb/Cifar10_.01-0.44-0.98.hdf5\n",
      "Epoch 00002: val_loss did not improve\n",
      "Epoch 00002: early stopping\n",
      "\n",
      "After Iter: 3\n",
      "\tLoss and Acc: [0.97981607818603511, 0.69640000000000002]\n",
      "\n",
      "number of data with first and second choice probability lower than 0.01: 299\n",
      "number of data with probability higher than 0.9999: 849\n",
      "x shape to be added from low margin: (299, 32, 32, 3)\n",
      "y shape to be added: (299, 10)\n",
      "x shape to be added from high probability: (849, 32, 32, 3)\n",
      "y shape to be added: (849, 10)\n",
      "new training data:\n",
      "\tx: (16034, 32, 32, 3)\n",
      "\ty: (16034, 10)\n",
      "remaining data:\n",
      "\tx: (33966, 32, 32, 3)\n",
      "\ty: (33966, 10)\n",
      "Epoch 00001: val_loss improved from inf to 0.96373, saving model to ./cifar10/comb/Cifar10_.01-0.43-0.96.hdf5\n",
      "Epoch 00002: val_loss did not improve\n",
      "Epoch 00002: early stopping\n",
      "\n",
      "After Iter: 4\n",
      "\tLoss and Acc: [0.96373145265579219, 0.69369999999999998]\n",
      "\n",
      "number of data with first and second choice probability lower than 0.01: 295\n",
      "number of data with probability higher than 0.9999: 698\n",
      "x shape to be added from low margin: (295, 32, 32, 3)\n",
      "y shape to be added: (295, 10)\n",
      "x shape to be added from high probability: (698, 32, 32, 3)\n",
      "y shape to be added: (698, 10)\n",
      "new training data:\n",
      "\tx: (17027, 32, 32, 3)\n",
      "\ty: (17027, 10)\n",
      "remaining data:\n",
      "\tx: (32973, 32, 32, 3)\n",
      "\ty: (32973, 10)\n",
      "Epoch 00001: val_loss improved from inf to 1.04552, saving model to ./cifar10/comb/Cifar10_.01-0.41-1.05.hdf5\n",
      "Epoch 00002: val_loss improved from 1.04552 to 0.96860, saving model to ./cifar10/comb/Cifar10_.02-0.36-0.97.hdf5\n",
      "Epoch 00003: val_loss did not improve\n",
      "Epoch 00003: early stopping\n",
      "\n",
      "After Iter: 5\n",
      "\tLoss and Acc: [0.9686032305717468, 0.70760000000000001]\n",
      "\n",
      "number of data with first and second choice probability lower than 0.01: 295\n",
      "number of data with probability higher than 0.9999: 1073\n",
      "x shape to be added from low margin: (295, 32, 32, 3)\n",
      "y shape to be added: (295, 10)\n",
      "x shape to be added from high probability: (1073, 32, 32, 3)\n",
      "y shape to be added: (1073, 10)\n",
      "new training data:\n",
      "\tx: (18395, 32, 32, 3)\n",
      "\ty: (18395, 10)\n",
      "remaining data:\n",
      "\tx: (31605, 32, 32, 3)\n",
      "\ty: (31605, 10)\n",
      "Epoch 00001: val_loss improved from inf to 0.98785, saving model to ./cifar10/comb/Cifar10_.01-0.36-0.99.hdf5\n",
      "Epoch 00002: val_loss did not improve\n",
      "Epoch 00002: early stopping\n",
      "\n",
      "After Iter: 6\n",
      "\tLoss and Acc: [0.98785414314270015, 0.69989999999999997]\n",
      "\n",
      "number of data with first and second choice probability lower than 0.01: 235\n",
      "number of data with probability higher than 0.9999: 427\n",
      "x shape to be added from low margin: (235, 32, 32, 3)\n",
      "y shape to be added: (235, 10)\n",
      "x shape to be added from high probability: (427, 32, 32, 3)\n",
      "y shape to be added: (427, 10)\n",
      "new training data:\n",
      "\tx: (19057, 32, 32, 3)\n",
      "\ty: (19057, 10)\n",
      "remaining data:\n",
      "\tx: (30943, 32, 32, 3)\n",
      "\ty: (30943, 10)\n",
      "Epoch 00001: val_loss improved from inf to 0.96499, saving model to ./cifar10/comb/Cifar10_.01-0.35-0.96.hdf5\n",
      "Epoch 00002: val_loss did not improve\n",
      "Epoch 00002: early stopping\n",
      "\n",
      "After Iter: 7\n",
      "\tLoss and Acc: [0.96499309692382818, 0.71379999999999999]\n",
      "\n",
      "number of data with first and second choice probability lower than 0.01: 276\n",
      "number of data with probability higher than 0.9999: 473\n",
      "x shape to be added from low margin: (276, 32, 32, 3)\n",
      "y shape to be added: (276, 10)\n",
      "x shape to be added from high probability: (473, 32, 32, 3)\n",
      "y shape to be added: (473, 10)\n",
      "new training data:\n",
      "\tx: (19806, 32, 32, 3)\n",
      "\ty: (19806, 10)\n",
      "remaining data:\n",
      "\tx: (30194, 32, 32, 3)\n",
      "\ty: (30194, 10)\n",
      "Epoch 00001: val_loss improved from inf to 1.01519, saving model to ./cifar10/comb/Cifar10_.01-0.34-1.02.hdf5\n",
      "Epoch 00002: val_loss improved from 1.01519 to 1.01318, saving model to ./cifar10/comb/Cifar10_.02-0.30-1.01.hdf5\n",
      "Epoch 00003: val_loss improved from 1.01318 to 0.95276, saving model to ./cifar10/comb/Cifar10_.03-0.29-0.95.hdf5\n",
      "Epoch 00004: val_loss did not improve\n",
      "Epoch 00004: early stopping\n",
      "\n",
      "After Iter: 8\n",
      "\tLoss and Acc: [0.9527610868930817, 0.71989999999999998]\n",
      "\n",
      "number of data with first and second choice probability lower than 0.01: 264\n",
      "number of data with probability higher than 0.9999: 572\n",
      "x shape to be added from low margin: (264, 32, 32, 3)\n",
      "y shape to be added: (264, 10)\n",
      "x shape to be added from high probability: (572, 32, 32, 3)\n",
      "y shape to be added: (572, 10)\n",
      "new training data:\n",
      "\tx: (20642, 32, 32, 3)\n",
      "\ty: (20642, 10)\n",
      "remaining data:\n",
      "\tx: (29358, 32, 32, 3)\n",
      "\ty: (29358, 10)\n",
      "Epoch 00001: val_loss improved from inf to 1.02425, saving model to ./cifar10/comb/Cifar10_.01-0.30-1.02.hdf5\n",
      "Epoch 00002: val_loss improved from 1.02425 to 1.01991, saving model to ./cifar10/comb/Cifar10_.02-0.26-1.02.hdf5\n",
      "Epoch 00003: val_loss did not improve\n",
      "Epoch 00003: early stopping\n",
      "\n",
      "After Iter: 9\n",
      "\tLoss and Acc: [1.0199104769706726, 0.72050000000000003]\n",
      "\n",
      "number of data with first and second choice probability lower than 0.01: 208\n",
      "number of data with probability higher than 0.9999: 1240\n",
      "x shape to be added from low margin: (208, 32, 32, 3)\n",
      "y shape to be added: (208, 10)\n",
      "x shape to be added from high probability: (1240, 32, 32, 3)\n",
      "y shape to be added: (1240, 10)\n",
      "new training data:\n",
      "\tx: (22090, 32, 32, 3)\n",
      "\ty: (22090, 10)\n",
      "remaining data:\n",
      "\tx: (27910, 32, 32, 3)\n",
      "\ty: (27910, 10)\n",
      "Epoch 00001: val_loss improved from inf to 1.01598, saving model to ./cifar10/comb/Cifar10_.01-0.27-1.02.hdf5\n",
      "Epoch 00002: val_loss did not improve\n",
      "Epoch 00002: early stopping\n",
      "\n",
      "After Iter: 10\n",
      "\tLoss and Acc: [1.0159799231529236, 0.72519999999999996]\n",
      "\n"
     ]
    },
    {
     "name": "stdout",
     "output_type": "stream",
     "text": [
      "number of data with first and second choice probability lower than 0.01: 152\n",
      "number of data with probability higher than 0.9999: 800\n",
      "x shape to be added from low margin: (152, 32, 32, 3)\n",
      "y shape to be added: (152, 10)\n",
      "x shape to be added from high probability: (800, 32, 32, 3)\n",
      "y shape to be added: (800, 10)\n",
      "new training data:\n",
      "\tx: (23042, 32, 32, 3)\n",
      "\ty: (23042, 10)\n",
      "remaining data:\n",
      "\tx: (26958, 32, 32, 3)\n",
      "\ty: (26958, 10)\n",
      "Epoch 00001: val_loss improved from inf to 1.00820, saving model to ./cifar10/comb/Cifar10_.01-0.27-1.01.hdf5\n",
      "Epoch 00002: val_loss improved from 1.00820 to 0.98164, saving model to ./cifar10/comb/Cifar10_.02-0.25-0.98.hdf5\n",
      "Epoch 00003: val_loss did not improve\n",
      "Epoch 00003: early stopping\n",
      "\n",
      "After Iter: 11\n",
      "\tLoss and Acc: [0.98163733644485474, 0.72719999999999996]\n",
      "\n",
      "number of data with first and second choice probability lower than 0.01: 195\n",
      "number of data with probability higher than 0.9999: 486\n",
      "x shape to be added from low margin: (195, 32, 32, 3)\n",
      "y shape to be added: (195, 10)\n",
      "x shape to be added from high probability: (486, 32, 32, 3)\n",
      "y shape to be added: (486, 10)\n",
      "new training data:\n",
      "\tx: (23723, 32, 32, 3)\n",
      "\ty: (23723, 10)\n",
      "remaining data:\n",
      "\tx: (26277, 32, 32, 3)\n",
      "\ty: (26277, 10)\n",
      "Epoch 00001: val_loss improved from inf to 1.03341, saving model to ./cifar10/comb/Cifar10_.01-0.27-1.03.hdf5\n",
      "Epoch 00002: val_loss did not improve\n",
      "Epoch 00002: early stopping\n",
      "\n",
      "After Iter: 12\n",
      "\tLoss and Acc: [1.0334059960365296, 0.72629999999999995]\n",
      "\n",
      "number of data with first and second choice probability lower than 0.01: 159\n",
      "number of data with probability higher than 0.9999: 654\n",
      "x shape to be added from low margin: (159, 32, 32, 3)\n",
      "y shape to be added: (159, 10)\n",
      "x shape to be added from high probability: (654, 32, 32, 3)\n",
      "y shape to be added: (654, 10)\n",
      "new training data:\n",
      "\tx: (24536, 32, 32, 3)\n",
      "\ty: (24536, 10)\n",
      "remaining data:\n",
      "\tx: (25464, 32, 32, 3)\n",
      "\ty: (25464, 10)\n",
      "Epoch 00001: val_loss improved from inf to 1.02767, saving model to ./cifar10/comb/Cifar10_.01-0.26-1.03.hdf5\n",
      "Epoch 00002: val_loss improved from 1.02767 to 1.01351, saving model to ./cifar10/comb/Cifar10_.02-0.23-1.01.hdf5\n",
      "Epoch 00003: val_loss did not improve\n",
      "Epoch 00003: early stopping\n",
      "\n",
      "After Iter: 13\n",
      "\tLoss and Acc: [1.0135104483604431, 0.7278]\n",
      "\n",
      "number of data with first and second choice probability lower than 0.01: 159\n",
      "number of data with probability higher than 0.9999: 611\n",
      "x shape to be added from low margin: (159, 32, 32, 3)\n",
      "y shape to be added: (159, 10)\n",
      "x shape to be added from high probability: (611, 32, 32, 3)\n",
      "y shape to be added: (611, 10)\n",
      "new training data:\n",
      "\tx: (25306, 32, 32, 3)\n",
      "\ty: (25306, 10)\n",
      "remaining data:\n",
      "\tx: (24694, 32, 32, 3)\n",
      "\ty: (24694, 10)\n",
      "Epoch 00001: val_loss improved from inf to 1.06204, saving model to ./cifar10/comb/Cifar10_.01-0.25-1.06.hdf5\n",
      "Epoch 00002: val_loss did not improve\n",
      "Epoch 00002: early stopping\n",
      "\n",
      "After Iter: 14\n",
      "\tLoss and Acc: [1.0620369407653809, 0.71830000000000005]\n",
      "\n",
      "number of data with first and second choice probability lower than 0.01: 154\n",
      "number of data with probability higher than 0.9999: 684\n",
      "x shape to be added from low margin: (154, 32, 32, 3)\n",
      "y shape to be added: (154, 10)\n",
      "x shape to be added from high probability: (684, 32, 32, 3)\n",
      "y shape to be added: (684, 10)\n",
      "new training data:\n",
      "\tx: (26144, 32, 32, 3)\n",
      "\ty: (26144, 10)\n",
      "remaining data:\n",
      "\tx: (23856, 32, 32, 3)\n",
      "\ty: (23856, 10)\n",
      "Epoch 00001: val_loss improved from inf to 0.99574, saving model to ./cifar10/comb/Cifar10_.01-0.26-1.00.hdf5\n",
      "Epoch 00002: val_loss did not improve\n",
      "Epoch 00002: early stopping\n",
      "\n",
      "After Iter: 15\n",
      "\tLoss and Acc: [0.99574430646896361, 0.72750000000000004]\n",
      "\n",
      "number of data with first and second choice probability lower than 0.01: 196\n",
      "number of data with probability higher than 0.9999: 201\n",
      "x shape to be added from low margin: (196, 32, 32, 3)\n",
      "y shape to be added: (196, 10)\n",
      "x shape to be added from high probability: (201, 32, 32, 3)\n",
      "y shape to be added: (201, 10)\n",
      "new training data:\n",
      "\tx: (26541, 32, 32, 3)\n",
      "\ty: (26541, 10)\n",
      "remaining data:\n",
      "\tx: (23459, 32, 32, 3)\n",
      "\ty: (23459, 10)\n",
      "Epoch 00001: val_loss improved from inf to 1.01152, saving model to ./cifar10/comb/Cifar10_.01-0.26-1.01.hdf5\n",
      "Epoch 00002: val_loss did not improve\n",
      "Epoch 00002: early stopping\n",
      "\n",
      "After Iter: 16\n",
      "\tLoss and Acc: [1.0115175420761109, 0.73380000000000001]\n",
      "\n",
      "number of data with first and second choice probability lower than 0.01: 130\n",
      "number of data with probability higher than 0.9999: 290\n",
      "x shape to be added from low margin: (130, 32, 32, 3)\n",
      "y shape to be added: (130, 10)\n",
      "x shape to be added from high probability: (290, 32, 32, 3)\n",
      "y shape to be added: (290, 10)\n",
      "new training data:\n",
      "\tx: (26961, 32, 32, 3)\n",
      "\ty: (26961, 10)\n",
      "remaining data:\n",
      "\tx: (23039, 32, 32, 3)\n",
      "\ty: (23039, 10)\n",
      "Epoch 00001: val_loss improved from inf to 0.99500, saving model to ./cifar10/comb/Cifar10_.01-0.26-1.00.hdf5\n",
      "Epoch 00002: val_loss did not improve\n",
      "Epoch 00002: early stopping\n",
      "\n",
      "After Iter: 17\n",
      "\tLoss and Acc: [0.99500419244766236, 0.73209999999999997]\n",
      "\n",
      "number of data with first and second choice probability lower than 0.01: 179\n",
      "number of data with probability higher than 0.9999: 286\n",
      "x shape to be added from low margin: (179, 32, 32, 3)\n",
      "y shape to be added: (179, 10)\n",
      "x shape to be added from high probability: (286, 32, 32, 3)\n",
      "y shape to be added: (286, 10)\n",
      "new training data:\n",
      "\tx: (27426, 32, 32, 3)\n",
      "\ty: (27426, 10)\n",
      "remaining data:\n",
      "\tx: (22574, 32, 32, 3)\n",
      "\ty: (22574, 10)\n",
      "Epoch 00001: val_loss improved from inf to 1.01920, saving model to ./cifar10/comb/Cifar10_.01-0.26-1.02.hdf5\n",
      "Epoch 00002: val_loss improved from 1.01920 to 0.98224, saving model to ./cifar10/comb/Cifar10_.02-0.24-0.98.hdf5\n",
      "Epoch 00003: val_loss did not improve\n",
      "Epoch 00003: early stopping\n",
      "\n",
      "After Iter: 18\n",
      "\tLoss and Acc: [0.98224182081222533, 0.73250000000000004]\n",
      "\n",
      "number of data with first and second choice probability lower than 0.01: 181\n",
      "number of data with probability higher than 0.9999: 274\n",
      "x shape to be added from low margin: (181, 32, 32, 3)\n",
      "y shape to be added: (181, 10)\n",
      "x shape to be added from high probability: (274, 32, 32, 3)\n",
      "y shape to be added: (274, 10)\n",
      "new training data:\n",
      "\tx: (27881, 32, 32, 3)\n",
      "\ty: (27881, 10)\n",
      "remaining data:\n",
      "\tx: (22119, 32, 32, 3)\n",
      "\ty: (22119, 10)\n",
      "Epoch 00001: val_loss improved from inf to 0.98789, saving model to ./cifar10/comb/Cifar10_.01-0.25-0.99.hdf5\n",
      "Epoch 00002: val_loss did not improve\n",
      "Epoch 00002: early stopping\n",
      "\n",
      "After Iter: 19\n",
      "\tLoss and Acc: [0.98788623981475832, 0.73370000000000002]\n",
      "\n"
     ]
    }
   ],
   "source": [
    "for i in range(20):\n",
    "    proba = model.predict_proba(remainXTrain, verbose=0)\n",
    "    # get new training data from high probability\n",
    "    remainXTrain, remainYTrain, x_train2, y_train2, yEval= concatData(proba, \n",
    "                                                                      remainXTrain, \n",
    "                                                                      remainYTrain, \n",
    "                                                                      x_train2, \n",
    "                                                                      y_train2, \n",
    "                                                                      0.01,\n",
    "                                                                      0.9999)\n",
    "    errPred2 = getError(yEval)\n",
    "    errPred = [errPred2[i]+errPred[i] for i in range(len(errPred))]\n",
    "    model = trainModel(model, x_train2, y_train2, x_test, y_test)\n",
    "    model = getNewestModel()\n",
    "    evalHistory.append(evaluate(model, x_test, y_test, display=False))\n",
    "    print(\"\\nAfter Iter: {0}\\n\\tLoss and Acc: {1}\\n\".format(i,evalHistory[-1]))"
   ]
  },
  {
   "cell_type": "code",
   "execution_count": 30,
   "metadata": {
    "scrolled": false
   },
   "outputs": [
    {
     "data": {
      "image/png": "[encoded data removed]",
      "text/plain": [
       "<matplotlib.figure.Figure at 0x7f4bd076b940>"
      ]
     },
     "metadata": {},
     "output_type": "display_data"
    },
    {
     "name": "stdout",
     "output_type": "stream",
     "text": [
      "             precision    recall  f1-score   support\n",
      "\n",
      "          0       0.77      0.73      0.75      1000\n",
      "          1       0.85      0.87      0.86      1000\n",
      "          2       0.69      0.59      0.64      1000\n",
      "          3       0.51      0.61      0.56      1000\n",
      "          4       0.66      0.73      0.70      1000\n",
      "          5       0.71      0.57      0.63      1000\n",
      "          6       0.87      0.73      0.80      1000\n",
      "          7       0.79      0.76      0.77      1000\n",
      "          8       0.77      0.88      0.82      1000\n",
      "          9       0.76      0.86      0.81      1000\n",
      "\n",
      "avg / total       0.74      0.73      0.73     10000\n",
      "\n",
      "Accuracy: 0.7337\n"
     ]
    }
   ],
   "source": [
    "# evaluate the initial test dataset\n",
    "evaluate(model, x_test, y_test, display=True)"
   ]
  },
  {
   "cell_type": "markdown",
   "metadata": {},
   "source": [
    "## wrap up the combination of active and semi-supervised learning"
   ]
  },
  {
   "cell_type": "code",
   "execution_count": 31,
   "metadata": {},
   "outputs": [
    {
     "data": {
      "text/plain": [
       "[2307, 1278, 2571, 2819, 2912, 2824, 1786, 1961, 1725, 1936]"
      ]
     },
     "execution_count": 31,
     "metadata": {},
     "output_type": "execute_result"
    }
   ],
   "source": [
    "# show remaining data in each label\n",
    "remainLabel = [0]*10\n",
    "for y in remainYTrain:\n",
    "    remainLabel[np.argmax(y)] += 1\n",
    "remainLabel"
   ]
  },
  {
   "cell_type": "code",
   "execution_count": 32,
   "metadata": {},
   "outputs": [
    {
     "data": {
      "text/plain": [
       "[2693, 3722, 2429, 2181, 2088, 2176, 3214, 3039, 3275, 3064]"
      ]
     },
     "execution_count": 32,
     "metadata": {},
     "output_type": "execute_result"
    }
   ],
   "source": [
    "# show data in each label used on training\n",
    "usedLabels = [5000-i for i in remainLabel]\n",
    "usedLabels"
   ]
  },
  {
   "cell_type": "code",
   "execution_count": 33,
   "metadata": {},
   "outputs": [
    {
     "data": {
      "image/png": "[encoded data removed]",
      "text/plain": [
       "<matplotlib.figure.Figure at 0x7f4ba78df710>"
      ]
     },
     "metadata": {},
     "output_type": "display_data"
    }
   ],
   "source": [
    "# show graph for the data used, remaining and number of errors with high probability prediction on each label\n",
    "import matplotlib.pyplot as plt\n",
    "fig, ax1 = plt.subplots(figsize = (10,7))\n",
    "ax2 = ax1.twinx()\n",
    "\n",
    "w = 0.4\n",
    "l1 = list(range(10))\n",
    "\n",
    "ax1.bar(l1, usedLabels, align='center', color=\"blue\", width=w, label='trained')\n",
    "ax1.bar(l1, remainLabel, align='center', color=\"green\", width=w, label='remaining', bottom=usedLabels)\n",
    "ax2.plot(errPred,  color=\"red\", label='high probability but wrong')\n",
    "ax1.legend(loc=\"lower left\")\n",
    "ax2.legend(loc=\"lower right\")\n",
    "ax1.set_xlabel(\"Labels\")\n",
    "ax1.set_ylabel(\"Data trained and remaining\")\n",
    "ax2.set_ylabel(\"High probability but wrong\")\n",
    "\n",
    "plt.xticks(l1, labels)\n",
    "plt.show()"
   ]
  },
  {
   "cell_type": "code",
   "execution_count": 34,
   "metadata": {},
   "outputs": [
    {
     "name": "stdout",
     "output_type": "stream",
     "text": [
      "airplane:\t1.968% wrong label added\n",
      "automobile:\t1.048% wrong label added\n",
      "bird:\t2.347% wrong label added\n",
      "cat:\t2.293% wrong label added\n",
      "deer:\t1.724% wrong label added\n",
      "dog:\t1.333% wrong label added\n",
      "frog:\t0.156% wrong label added\n",
      "horse:\t0.494% wrong label added\n",
      "ship:\t1.802% wrong label added\n",
      "truck:\t2.252% wrong label added\n"
     ]
    }
   ],
   "source": [
    "for i in range(10):\n",
    "    print(\"{0}:\\t{1}% wrong label added\".format(labels[i], round((errPred[i]/usedLabels[i])*100, 3)))"
   ]
  },
  {
   "cell_type": "code",
   "execution_count": 37,
   "metadata": {},
   "outputs": [
    {
     "data": {
      "image/png": "[encoded data removed]",
      "text/plain": [
       "<matplotlib.figure.Figure at 0x7f4ba740c1d0>"
      ]
     },
     "metadata": {},
     "output_type": "display_data"
    }
   ],
   "source": [
    "# show evaluation history\n",
    "npeh = np.array(evalHistory)\n",
    "fig, ax1 = plt.subplots(figsize=(10,7))\n",
    "epochHis = list(range(22))\n",
    "ax1.plot(epochHis, npeh[:,0], \"b\", label=\"Loss\")\n",
    "ax1.set_xlabel(\"Epochs\")\n",
    "ax1.set_ylabel(\"Loss\")\n",
    "ax1.legend()\n",
    "\n",
    "ax2 = ax1.twinx()\n",
    "ax2.plot(epochHis, npeh[:,1], \"r\", label=\"Accuracy\")\n",
    "ax2.set_ylabel(\"Accuracy\")\n",
    "ax2.legend()\n",
    "\n",
    "plt.show()"
   ]
  },
  {
   "cell_type": "code",
   "execution_count": null,
   "metadata": {},
   "outputs": [],
   "source": []
  },
  {
   "cell_type": "code",
   "execution_count": null,
   "metadata": {},
   "outputs": [],
   "source": []
  },
  {
   "cell_type": "code",
   "execution_count": null,
   "metadata": {},
   "outputs": [],
   "source": []
  },
  {
   "cell_type": "code",
   "execution_count": null,
   "metadata": {},
   "outputs": [],
   "source": []
  },
  {
   "cell_type": "code",
   "execution_count": null,
   "metadata": {},
   "outputs": [],
   "source": []
  }
 ],
 "metadata": {
  "anaconda-cloud": {},
  "kernelspec": {
   "display_name": "Python 3",
   "language": "python",
   "name": "python3"
  },
  "language_info": {
   "codemirror_mode": {
    "name": "ipython",
    "version": 3
   },
   "file_extension": ".py",
   "mimetype": "text/x-python",
   "name": "python",
   "nbconvert_exporter": "python",
   "pygments_lexer": "ipython3",
   "version": "3.6.3"
  }
 },
 "nbformat": 4,
 "nbformat_minor": 1
}
